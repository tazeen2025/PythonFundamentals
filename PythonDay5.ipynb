{
 "cells": [
  {
   "cell_type": "code",
   "execution_count": 3,
   "id": "d4e92fc2-5f4c-4bcb-8e05-3ea74065ea21",
   "metadata": {},
   "outputs": [
    {
     "name": "stdout",
     "output_type": "stream",
     "text": [
      "['kia', 'audi', 'marathi', 'benz', 'toyota', 'byd', 'mg']\n"
     ]
    }
   ],
   "source": [
    "cars=['kia','audi','marathi','benz','toyota','byd','mg']\n",
    "print(cars)"
   ]
  },
  {
   "cell_type": "code",
   "execution_count": 5,
   "id": "dc5a0552-5e5f-4163-8d33-7e066ca3b0f7",
   "metadata": {},
   "outputs": [
    {
     "name": "stdout",
     "output_type": "stream",
     "text": [
      "['audi', 'benz', 'byd', 'kia', 'marathi', 'mg', 'toyota']\n"
     ]
    }
   ],
   "source": [
    "#I want to arrange them in alphabetical order\n",
    "#2 approaches: temporary(sorted) and permanent(sort)\n",
    "print(sorted(cars))"
   ]
  },
  {
   "cell_type": "raw",
   "id": "652b5fce-2304-4221-9714-02a74a2c0fb6",
   "metadata": {},
   "source": []
  },
  {
   "cell_type": "code",
   "execution_count": null,
   "id": "c4c05d2c-be56-4b37-8196-151c0ccaaf2e",
   "metadata": {},
   "outputs": [],
   "source": []
  },
  {
   "cell_type": "code",
   "execution_count": null,
   "id": "0c552945-b867-4823-afcd-d62938b207d9",
   "metadata": {},
   "outputs": [],
   "source": []
  },
  {
   "cell_type": "code",
   "execution_count": 8,
   "id": "5bdc1859-a902-43ea-8d25-ee26d403aa98",
   "metadata": {},
   "outputs": [
    {
     "name": "stdout",
     "output_type": "stream",
     "text": [
      "['kia', 'audi', 'marathi', 'benz', 'toyota', 'byd', 'mg']\n"
     ]
    }
   ],
   "source": [
    "cars=['kia','audi','marathi','benz','toyota','byd','mg']\n",
    "print(cars)"
   ]
  },
  {
   "cell_type": "code",
   "execution_count": 10,
   "id": "64eb7107-4de4-438a-902c-b14635f90698",
   "metadata": {},
   "outputs": [
    {
     "name": "stdout",
     "output_type": "stream",
     "text": [
      "['audi', 'benz', 'byd', 'kia', 'marathi', 'mg', 'toyota']\n"
     ]
    }
   ],
   "source": [
    "cars=['kia','audi','marathi','benz','toyota','byd','mg']\n",
    "cars.sort()\n",
    "print(cars)"
   ]
  },
  {
   "cell_type": "code",
   "execution_count": null,
   "id": "2a2b7a7f-6ce4-4a7d-86dc-b58d33a31744",
   "metadata": {},
   "outputs": [],
   "source": []
  },
  {
   "cell_type": "code",
   "execution_count": 12,
   "id": "1795a8a5-863c-4dd3-9d8c-c52d463b8dfb",
   "metadata": {},
   "outputs": [
    {
     "data": {
      "text/plain": [
       "7"
      ]
     },
     "execution_count": 12,
     "metadata": {},
     "output_type": "execute_result"
    }
   ],
   "source": [
    "len(cars)"
   ]
  },
  {
   "cell_type": "code",
   "execution_count": 16,
   "id": "0fa9813c-64da-44e6-b621-7bdd1b4ed1f8",
   "metadata": {},
   "outputs": [],
   "source": [
    "#Conditional/Looping Statements in Python\n",
    "#for loop\n",
    "#Syntax: \n",
    "#for tempcar in mainvar:\n",
    "#print(tempvar)     "
   ]
  },
  {
   "cell_type": "code",
   "execution_count": 18,
   "id": "0829d65c-fd05-4f2f-b00c-c777d85e1284",
   "metadata": {},
   "outputs": [
    {
     "name": "stdout",
     "output_type": "stream",
     "text": [
      "audi\n",
      "benz\n",
      "byd\n",
      "kia\n",
      "marathi\n",
      "mg\n",
      "toyota\n"
     ]
    }
   ],
   "source": [
    "for x in cars:\n",
    "    print(x)"
   ]
  },
  {
   "cell_type": "code",
   "execution_count": 29,
   "id": "1cd3d088-c1aa-48fa-86a9-36d29051e34e",
   "metadata": {},
   "outputs": [
    {
     "name": "stdout",
     "output_type": "stream",
     "text": [
      "['lubna', 'aisha', 'navin']\n",
      "['lubna', 'aisha', 'navin']\n"
     ]
    }
   ],
   "source": [
    "#Req: I want to appreciate lubna for daily consistency\n",
    "students = ['lubna', 'aisha','navin']\n",
    "print(students)\n",
    "students = ['lubna', 'aisha','navin']\n",
    "print(students)"
   ]
  },
  {
   "cell_type": "code",
   "execution_count": 31,
   "id": "63eac530-8108-4a83-b56f-a1c806c323b0",
   "metadata": {},
   "outputs": [],
   "source": [
    "students = ['lubna', 'aisha','navin']"
   ]
  },
  {
   "cell_type": "code",
   "execution_count": 53,
   "id": "1950bbf7-1665-4483-a41e-9e2eaed7e343",
   "metadata": {},
   "outputs": [
    {
     "name": "stdout",
     "output_type": "stream",
     "text": [
      "Keep up the good work\n"
     ]
    }
   ],
   "source": [
    "message = f\"Keep up the good work\" \n",
    "print(message)"
   ]
  },
  {
   "cell_type": "code",
   "execution_count": null,
   "id": "4254b381-4dc2-4c3f-9056-c4c8b1ce7bdf",
   "metadata": {},
   "outputs": [],
   "source": []
  }
 ],
 "metadata": {
  "kernelspec": {
   "display_name": "Python [conda env:base] *",
   "language": "python",
   "name": "conda-base-py"
  },
  "language_info": {
   "codemirror_mode": {
    "name": "ipython",
    "version": 3
   },
   "file_extension": ".py",
   "mimetype": "text/x-python",
   "name": "python",
   "nbconvert_exporter": "python",
   "pygments_lexer": "ipython3",
   "version": "3.12.7"
  }
 },
 "nbformat": 4,
 "nbformat_minor": 5
}
