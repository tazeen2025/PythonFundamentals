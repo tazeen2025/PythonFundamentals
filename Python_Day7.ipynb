{
 "cells": [
  {
   "cell_type": "code",
   "execution_count": 1,
   "id": "415545f7-4a1c-4f70-a3f2-e9adfce0b2b8",
   "metadata": {},
   "outputs": [
    {
     "name": "stdout",
     "output_type": "stream",
     "text": [
      "b\n"
     ]
    }
   ],
   "source": [
    "#Intro to tuple data type\n",
    "#An immutable list is called a tuple\n",
    "\n",
    "students = ('a', 'b', 'c', 'd')\n",
    "type(students)\n",
    "tuple\n",
    "print(students[1])\n",
    "\n",
    "\n"
   ]
  },
  {
   "cell_type": "code",
   "execution_count": 3,
   "id": "2286480b-b174-48d4-b27f-ec50e109ce3f",
   "metadata": {},
   "outputs": [
    {
     "name": "stdout",
     "output_type": "stream",
     "text": [
      "(200, 50)\n"
     ]
    }
   ],
   "source": [
    "dimensions = (200,50)\n",
    "print(dimensions)"
   ]
  },
  {
   "cell_type": "code",
   "execution_count": 11,
   "id": "64781896-2a41-488e-9661-8fae4eedf15f",
   "metadata": {},
   "outputs": [
    {
     "name": "stdout",
     "output_type": "stream",
     "text": [
      "a\n",
      "b\n",
      "c\n",
      "d\n"
     ]
    }
   ],
   "source": [
    "for x in students:\n",
    "    print(x)\n"
   ]
  },
  {
   "cell_type": "raw",
   "id": "7ee776aa-f2b2-4989-8fe1-5340862ad075",
   "metadata": {},
   "source": [
    "print(sorted(students))\n"
   ]
  },
  {
   "cell_type": "code",
   "execution_count": null,
   "id": "02b71d5f-6f16-4393-beef-e653b7e2a0e7",
   "metadata": {},
   "outputs": [],
   "source": [
    "\n"
   ]
  },
  {
   "cell_type": "code",
   "execution_count": null,
   "id": "722cf186-7b52-4e54-9a04-1a39b8ab6122",
   "metadata": {},
   "outputs": [],
   "source": []
  },
  {
   "cell_type": "code",
   "execution_count": null,
   "id": "7a16f772-78ff-48d3-a72b-b4d70dff0ba5",
   "metadata": {},
   "outputs": [],
   "source": []
  },
  {
   "cell_type": "code",
   "execution_count": null,
   "id": "e16e0728-6229-4f1a-9249-14e982bde8e7",
   "metadata": {},
   "outputs": [],
   "source": [
    "\n",
    "#Dictionary Data type: mutable data type, we can edit or alter dictionary\n",
    "#How to declare: {}\n",
    "\n"
   ]
  },
  {
   "cell_type": "code",
   "execution_count": 19,
   "id": "0d942225-d728-4397-a319-1e5f54d37627",
   "metadata": {},
   "outputs": [
    {
     "data": {
      "text/plain": [
       "dict"
      ]
     },
     "execution_count": 19,
     "metadata": {},
     "output_type": "execute_result"
    }
   ],
   "source": [
    "alien = {'color':\"green\",'points':5}\n",
    "type(alien)"
   ]
  },
  {
   "cell_type": "code",
   "execution_count": 21,
   "id": "a19a8dfb-73d3-485d-bed7-9441a6b13759",
   "metadata": {},
   "outputs": [
    {
     "name": "stdout",
     "output_type": "stream",
     "text": [
      "green\n"
     ]
    }
   ],
   "source": [
    "print(alien['color'])"
   ]
  },
  {
   "cell_type": "code",
   "execution_count": null,
   "id": "ece651cf-c8b0-4898-893b-5584306ee352",
   "metadata": {},
   "outputs": [],
   "source": []
  },
  {
   "cell_type": "code",
   "execution_count": 25,
   "id": "8cb7a818-337a-46c2-9976-3d00ae3e6e22",
   "metadata": {},
   "outputs": [
    {
     "data": {
      "text/plain": [
       "dict"
      ]
     },
     "execution_count": 25,
     "metadata": {},
     "output_type": "execute_result"
    }
   ],
   "source": [
    "# Assistant\n",
    "alien = {'color':\"green\",'points':5}\n",
    "type(alien)"
   ]
  }
 ],
 "metadata": {
  "kernelspec": {
   "display_name": "Python [conda env:base] *",
   "language": "python",
   "name": "conda-base-py"
  },
  "language_info": {
   "codemirror_mode": {
    "name": "ipython",
    "version": 3
   },
   "file_extension": ".py",
   "mimetype": "text/x-python",
   "name": "python",
   "nbconvert_exporter": "python",
   "pygments_lexer": "ipython3",
   "version": "3.12.7"
  }
 },
 "nbformat": 4,
 "nbformat_minor": 5
}
