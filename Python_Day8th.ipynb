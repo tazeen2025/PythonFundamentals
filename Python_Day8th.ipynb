{
 "cells": [
  {
   "cell_type": "code",
   "execution_count": null,
   "id": "37aae628-8480-46db-8751-28993055f300",
   "metadata": {},
   "outputs": [],
   "source": [
    "#Dictionary datatype\n",
    "#Mutable datatype\n",
    "#how to define: {}\n",
    "\n"
   ]
  },
  {
   "cell_type": "code",
   "execution_count": 1,
   "id": "9553ef02-b12c-4b8f-bb60-dcb1aa1dae29",
   "metadata": {},
   "outputs": [
    {
     "name": "stdout",
     "output_type": "stream",
     "text": [
      "{'color': 'green', 'points': 5}\n"
     ]
    }
   ],
   "source": [
    "# creating a sample dictionary\n",
    "alien = {'color':'green','points':5}\n",
    "print(alien)"
   ]
  },
  {
   "cell_type": "code",
   "execution_count": 3,
   "id": "e367a8f5-30d9-4fe8-b910-73dc622985a5",
   "metadata": {},
   "outputs": [
    {
     "data": {
      "text/plain": [
       "dict"
      ]
     },
     "execution_count": 3,
     "metadata": {},
     "output_type": "execute_result"
    }
   ],
   "source": [
    "type(alien)"
   ]
  },
  {
   "cell_type": "code",
   "execution_count": 29,
   "id": "d8c282f1-8984-44e7-afb0-e189b4bab246",
   "metadata": {},
   "outputs": [
    {
     "name": "stdout",
     "output_type": "stream",
     "text": [
      "{'color': 'green', 'points': 5, 'start_position': 0}\n"
     ]
    }
   ],
   "source": [
    "#how to access key value pairs in a dictionary !!\n",
    "#Note: Keys will be acting like indexes in dictionary\n",
    "# i want to add start_position of the alien 0\n",
    "alien['start_position'] = 0\n",
    "print(alien)\n",
    "\n",
    "\n",
    "\n",
    "\n",
    "\n",
    "\n",
    "\n"
   ]
  },
  {
   "cell_type": "code",
   "execution_count": 15,
   "id": "9da725b0-bff9-44b8-a23c-7be464ef7482",
   "metadata": {},
   "outputs": [
    {
     "name": "stdout",
     "output_type": "stream",
     "text": [
      "{'username': 'python', 'first_name': 'training', 'dob': '01-01-2020', 'pwd': '54321'}\n"
     ]
    }
   ],
   "source": [
    "#Req: i want to create new instagram account\n",
    "new_account = {'username':'python', 'first_name':'training','dob':'01-01-2020','pwd':'54321'}\n",
    "print(new_account)"
   ]
  },
  {
   "cell_type": "code",
   "execution_count": 23,
   "id": "2dc7b0c7-69d9-432c-bece-632b5c0dee1f",
   "metadata": {},
   "outputs": [
    {
     "name": "stdout",
     "output_type": "stream",
     "text": [
      "{'username': 'python training', 'first_name': 'training', 'dob': '01-01-2020', 'pwd': '54321'}\n"
     ]
    }
   ],
   "source": [
    "#How to update key value pairs\n",
    "#Req: i want to update the username\n",
    "new_account['username'] = 'python training'\n",
    "print(new_account)\n"
   ]
  },
  {
   "cell_type": "code",
   "execution_count": 35,
   "id": "1a96341c-9e1b-4f3e-b5f2-ea713dbcbc79",
   "metadata": {},
   "outputs": [
    {
     "name": "stdout",
     "output_type": "stream",
     "text": [
      "{'username': 'python training', 'first_name': 'training', 'dob': '01-01-2020'}\n"
     ]
    }
   ],
   "source": [
    "#how to delete key value pairs\n",
    "#Req\" i want to delete pwd\n",
    "del new_account['pwd']\n",
    "print(new_account)"
   ]
  },
  {
   "cell_type": "code",
   "execution_count": null,
   "id": "d1bef296-2ce5-472e-9b32-1c1d11e7238c",
   "metadata": {},
   "outputs": [],
   "source": []
  }
 ],
 "metadata": {
  "kernelspec": {
   "display_name": "Python [conda env:base] *",
   "language": "python",
   "name": "conda-base-py"
  },
  "language_info": {
   "codemirror_mode": {
    "name": "ipython",
    "version": 3
   },
   "file_extension": ".py",
   "mimetype": "text/x-python",
   "name": "python",
   "nbconvert_exporter": "python",
   "pygments_lexer": "ipython3",
   "version": "3.12.7"
  }
 },
 "nbformat": 4,
 "nbformat_minor": 5
}
