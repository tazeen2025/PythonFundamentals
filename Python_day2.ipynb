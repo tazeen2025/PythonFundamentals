{
 "cells": [
  {
   "cell_type": "code",
   "execution_count": 3,
   "id": "d0fa57f3-36c7-4e8c-961d-86e6acb40bef",
   "metadata": {},
   "outputs": [
    {
     "name": "stdout",
     "output_type": "stream",
     "text": [
      "Zainab\n"
     ]
    }
   ],
   "source": [
    "name = \"Zainab\"\n",
    "print(name)\n",
    "\n"
   ]
  },
  {
   "cell_type": "code",
   "execution_count": 5,
   "id": "a62e5d48-7d82-4f53-ac7f-17dd043fb62e",
   "metadata": {},
   "outputs": [
    {
     "name": "stdout",
     "output_type": "stream",
     "text": [
      "ZAINAB\n"
     ]
    }
   ],
   "source": [
    "print(name.upper())\n"
   ]
  },
  {
   "cell_type": "code",
   "execution_count": null,
   "id": "b85814d2-0834-4939-8e13-6c176a884267",
   "metadata": {},
   "outputs": [],
   "source": []
  }
 ],
 "metadata": {
  "kernelspec": {
   "display_name": "Python [conda env:base] *",
   "language": "python",
   "name": "conda-base-py"
  },
  "language_info": {
   "codemirror_mode": {
    "name": "ipython",
    "version": 3
   },
   "file_extension": ".py",
   "mimetype": "text/x-python",
   "name": "python",
   "nbconvert_exporter": "python",
   "pygments_lexer": "ipython3",
   "version": "3.12.7"
  }
 },
 "nbformat": 4,
 "nbformat_minor": 5
}
